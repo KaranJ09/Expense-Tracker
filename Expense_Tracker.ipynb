{
 "cells": [
  {
   "cell_type": "code",
   "execution_count": null,
   "id": "b948915b-53d2-4543-b263-8b32d25dc469",
   "metadata": {},
   "outputs": [],
   "source": [
    "import csv"
   ]
  },
  {
   "cell_type": "code",
   "execution_count": null,
   "id": "57761f61-6285-4496-a313-42708d70ea84",
   "metadata": {},
   "outputs": [],
   "source": [
    "def display_menu():\n",
    "    print(\"\\n--- Expense Tracker ---\")\n",
    "    print(\"1. Add Expense\")\n",
    "    print(\"2. View Summary\")\n",
    "    print(\"3. Save Data\")\n",
    "    print(\"4. Load Data\")\n",
    "    print(\"5. Visualize Expenses\")\n",
    "    print(\"6. Exit\")"
   ]
  },
  {
   "cell_type": "markdown",
   "id": "66b5fa71-1aa0-46dc-83d7-c7d052473ac6",
   "metadata": {},
   "source": [
    "**Above, we defined a function to display the menu options.**"
   ]
  },
  {
   "cell_type": "code",
   "execution_count": null,
   "id": "7a9d0fcc-eb0d-4472-b51b-6ad7de9137c5",
   "metadata": {},
   "outputs": [],
   "source": [
    "# Use a list to store expenses. Each expense will be a dictionary with amount and category.\n",
    "\n",
    "expenses = []"
   ]
  },
  {
   "cell_type": "code",
   "execution_count": null,
   "id": "eb756bef-05bb-4053-ad28-96107ff61d5d",
   "metadata": {},
   "outputs": [],
   "source": [
    "# Def a function to input expenses.\n",
    "\n",
    "def add_expense():\n",
    "    try:\n",
    "        amount = float(input('Enter the expense amount: '))\n",
    "        category = input('Enter the expense category (e.g.; Food, Transport): ')\n",
    "        expenses.append({'amount': amount, 'category': category})\n",
    "        print('Expense added succesfully.')\n",
    "    except ValueError:\n",
    "        print('Invalid input. Please enter a valid number for the amount. ')"
   ]
  },
  {
   "cell_type": "code",
   "execution_count": null,
   "id": "fdca926d-464a-4f76-9a36-c96be0077d97",
   "metadata": {},
   "outputs": [],
   "source": [
    "# Summarize expenses by category\n",
    "\n",
    "def view_summary():\n",
    "    if not expenses:\n",
    "        print('No expenses recorded yet. ')\n",
    "        return\n",
    "\n",
    "    summary = {}\n",
    "    for expense in expenses:\n",
    "        category = expense['category']\n",
    "        amount = expense['amount']\n",
    "        if category in summary:\n",
    "            summary[category] += amount\n",
    "        else:\n",
    "            summary[category] = amount\n",
    "\n",
    "    print('\\n--- Expense Summary ---')\n",
    "    for category, total in summary.items():\n",
    "        print(f\"{category}: Rs{total:.2f}\")"
   ]
  },
  {
   "cell_type": "code",
   "execution_count": null,
   "id": "73b4c704-056e-4615-9f8d-8d24a13d02de",
   "metadata": {},
   "outputs": [],
   "source": [
    "# Save expenses to a file so you can access them later.\n",
    "\n",
    "def save_data():\n",
    "    filename = input('Enter the filename to save (e.g; expenses.csv): ')\n",
    "    try:\n",
    "        with open(filename, mode='w', newline='') as file:\n",
    "            writer = csv.writer(file)\n",
    "            writer.writerow(['Amount', 'Category'])\n",
    "            for expense in expenses:\n",
    "                writer.writerow([expense['amount'], expense['category']])\n",
    "\n",
    "        print('Data saved successfully')\n",
    "    except Exception as e:\n",
    "        print(f'Error saving data: {e}')"
   ]
  },
  {
   "cell_type": "code",
   "execution_count": null,
   "id": "dd9fefe5-3057-430e-89e6-35c6d90584e4",
   "metadata": {},
   "outputs": [],
   "source": [
    "# Loading previously saved data\n",
    "\n",
    "def load_data():\n",
    "    filename = input('Enter the filename to load (e.g; expense.csv): ')\n",
    "    try:\n",
    "        with open(filename, mode = 'r') as file:\n",
    "            reader = csv.DictReader(file)\n",
    "            for row in reader:\n",
    "                expenses.append({'amount': float(row['Amount']), 'category': row['Category']})\n",
    "        print('Data loaded successfully')\n",
    "    except Exception as e:\n",
    "        print(f'Error loading data: {e}')"
   ]
  },
  {
   "cell_type": "code",
   "execution_count": null,
   "id": "d8eea302-0a9e-4145-b7bc-227fe1b97fc7",
   "metadata": {},
   "outputs": [],
   "source": [
    "pip install matplotlib"
   ]
  },
  {
   "cell_type": "code",
   "execution_count": null,
   "id": "5690a2ec",
   "metadata": {},
   "outputs": [],
   "source": [
    "pip install tabulate"
   ]
  },
  {
   "cell_type": "code",
   "execution_count": null,
   "id": "28d495a1-7af0-477a-915e-5f6a2beda200",
   "metadata": {},
   "outputs": [],
   "source": [
    "import matplotlib.pyplot as plt\n",
    "\n",
    "def visualize_expenses():\n",
    "    if not expenses:\n",
    "        print('No expenses to visualize.')\n",
    "        return\n",
    "\n",
    "    #Summarize expenses by category\n",
    "    summary = {}\n",
    "    for expense in expenses:\n",
    "        category = expense['category']\n",
    "        amount = expense['amount']\n",
    "        summary[category] = summary.get(category, 0) + amount\n",
    "\n",
    "    categories = list(summary.keys())\n",
    "    amounts = list(summary.values())\n",
    "\n",
    "    plt.figure(figsize=(6, 6))\n",
    "    plt.pie(amounts, labels=categories, autopct= '%1.1f%%', startangle=140)\n",
    "    plt.title('Expense Distribution by Category')\n",
    "    plt.show()\n",
    "    "
   ]
  },
  {
   "cell_type": "code",
   "execution_count": 18,
   "id": "9d270c6e-171d-4194-83e3-d735da1bc834",
   "metadata": {},
   "outputs": [
    {
     "name": "stdout",
     "output_type": "stream",
     "text": [
      "Exiting the program. Bye\n"
     ]
    }
   ],
   "source": [
    "# Main program loop. Bring everything together\n",
    "\n",
    "while True:\n",
    "    display_menu()\n",
    "    choice = input('Choose an option: ')\n",
    "    if choice == '1':\n",
    "        add_expense()\n",
    "    elif choice == '2':\n",
    "        view_summary()\n",
    "    elif choice == '3':\n",
    "        save_data()\n",
    "    elif choice == '4':\n",
    "        load_data()\n",
    "    elif choice == '5':\n",
    "        visualize_expenses()\n",
    "    elif choice == '6':\n",
    "        print('Exiting the program. Bye')\n",
    "        break\n",
    "    else:\n",
    "        print('Invalid choice. Please select a valid option.')"
   ]
  }
 ],
 "metadata": {
  "kernelspec": {
   "display_name": "Python 3",
   "language": "python",
   "name": "python3"
  },
  "language_info": {
   "codemirror_mode": {
    "name": "ipython",
    "version": 3
   },
   "file_extension": ".py",
   "mimetype": "text/x-python",
   "name": "python",
   "nbconvert_exporter": "python",
   "pygments_lexer": "ipython3",
   "version": "3.9.6"
  }
 },
 "nbformat": 4,
 "nbformat_minor": 5
}
